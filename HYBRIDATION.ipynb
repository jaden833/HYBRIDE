{
 "cells": [
  {
   "cell_type": "code",
   "execution_count": 22,
   "metadata": {},
   "outputs": [],
   "source": [
    "#@title\n",
    "\n",
    "import warnings\n",
    "warnings.filterwarnings('ignore')\n",
    "\n",
    "\n",
    "\n",
    "import ipywidgets as widgets\n",
    "from IPython.display import display, clear_output"
   ]
  },
  {
   "cell_type": "code",
   "execution_count": 23,
   "metadata": {},
   "outputs": [],
   "source": [
    "#!jupyter nbextension enable --py widgetsnbextension --sys-prefix\n",
    "#!jupyter serverextension enable voila --sys-prefix"
   ]
  },
  {
   "cell_type": "code",
   "execution_count": 24,
   "metadata": {},
   "outputs": [],
   "source": [
    "# @title\n",
    "#### PROFIL DE PUISSANCE ####\n",
    "\n",
    "#Decollage\n",
    "Pdec = 1;\n",
    "Tdec = 1; #min\n",
    "\n",
    "#Montée\n",
    "Pmon = 0.75;\n",
    "Tmon = 20; #min\n",
    "\n",
    "#Croisière\n",
    "Pcro = 0.53;\n",
    "Tcro = 180; #min\n",
    "\n",
    "#### INFO ATR 72 ####\n",
    "\n",
    "Pmax = 4; #MW\n",
    "Diam_int = 2; #m\n",
    "\n",
    "\n",
    "#### INFO H2 ####\n",
    "\n",
    "H_E_d = 120; #MJ/kg\n",
    "H_cout = 4; #€\n",
    "H_d = 71 #kg/m3\n",
    "\n",
    "#### INFO TANK ####\n",
    "\n",
    "wt = 0.25;\n",
    "T_encomb = 0.8;\n",
    "\n",
    "#### INFO VOL ####\n",
    "\n",
    "Ticket_Cout = 100; #€ pour un vol de 3h\n",
    "\n",
    "\n",
    "#### INFO FC ####\n",
    "FC_eff = 0.45;\n",
    "FC_P_d = 1; #kW/kg\n",
    "\n",
    "#### INFO Turboprop ####\n",
    "TURB_eff = 0.25;\n",
    "TURB_P_d = 4; #kW/kg\n",
    "\n",
    "\n"
   ]
  },
  {
   "cell_type": "markdown",
   "metadata": {},
   "source": [
    "# <h1>L'hybridation est elle vraiment utile pour l'avion à hydrogène? </h1>\n",
    "<h2>Les avionneurs ont le choix: Combustion directe de l'hydrogène pour l'utiliser dans les turbofan classiques, ou conversion electrique grâce à une pile à combustible. </h2>\n",
    "\n"
   ]
  },
  {
   "cell_type": "code",
   "execution_count": 34,
   "metadata": {},
   "outputs": [
    {
     "data": {
      "application/vnd.jupyter.widget-view+json": {
       "model_id": "e076a2140fcb4b5e8e0745deba57adea",
       "version_major": 2,
       "version_minor": 0
      },
      "text/plain": [
       "VBox(children=(HTML(value=\"<h1>L'hybridation est elle vraiment utile pour l'avion à hydrogène? </h1>\"), HTML(v…"
      ]
     },
     "metadata": {},
     "output_type": "display_data"
    },
    {
     "data": {
      "application/vnd.jupyter.widget-view+json": {
       "model_id": "e7f33e2985444585ae031901594e91cd",
       "version_major": 2,
       "version_minor": 0
      },
      "text/plain": [
       "IntSlider(value=50, continuous_update=False, description=\"Taux d'hybridation (%)\", layout=Layout(height='30%',…"
      ]
     },
     "metadata": {},
     "output_type": "display_data"
    },
    {
     "data": {
      "application/vnd.jupyter.widget-view+json": {
       "model_id": "28c46561e5e646e0815cbf4559f301e7",
       "version_major": 2,
       "version_minor": 0
      },
      "text/plain": [
       "Output()"
      ]
     },
     "metadata": {},
     "output_type": "display_data"
    },
    {
     "data": {
      "application/vnd.jupyter.widget-view+json": {
       "model_id": "b2f876b2a2284a8a95a3ba2890a6044a",
       "version_major": 2,
       "version_minor": 0
      },
      "text/plain": [
       "VBox(children=(HTML(value=\"<h4>L'hybridation est essentielle pour que l'avion à hydrogène soit economiquement …"
      ]
     },
     "metadata": {},
     "output_type": "display_data"
    }
   ],
   "source": [
    "#@title\n",
    "\n",
    "PART_TURB = 50;\n",
    "PART_FC_W = widgets.IntSlider(\n",
    "            layout= widgets.Layout(width='100%', height='30%'),\n",
    "            value= 50, # default value\n",
    "            description=\"Taux d'hybridation (%)\",\n",
    "            continuous_update=False,\n",
    "            min= 0,\n",
    "            max=100,\n",
    "            step=1,\n",
    "            style={'description_width': 'initial', 'handle_color': '#16a085'} \n",
    "    \n",
    "    \n",
    "        )\n",
    "\n",
    "\n",
    "\n",
    "\n",
    "\n",
    "\n",
    "\n",
    "\n",
    "#@title\n",
    "\n",
    "t_titre = \"<h1>L'hybridation est elle vraiment utile pour l'avion à hydrogène? </h1>\"\n",
    "t_expl = \"<h4>Les avionneurs ont le choix: Combustion directe de l'hydrogène pour l'utiliser dans les turbofan classiques, ou conversion electrique grâce à une pile à combustible. </h4>\"\n",
    "t_allechant = \"<h4> Mais ils peuvent aussi opter pour un concept hybride, regroupant les forces de chacunes des technologies</h4>\"\n",
    "t_aller = \"<h3> Faites bouger ce curseur pour determiner la pertinence d'un hybridation !</h3>\"\n",
    "t_onexplique = \"<p>A gauche (0%) c'est combustion directe pure, comme les turboprops classique. A droite (100%) c'est purement pile à combustible</p>\"\n",
    "\n",
    "text_titre = widgets.HTML(value=t_titre)\n",
    "text_expl = widgets.HTML(value=t_expl)\n",
    "text_allechant = widgets.HTML(value=t_allechant)\n",
    "text_aller = widgets.HTML(value=t_aller)\n",
    "text_onexplique = widgets.HTML(value=t_onexplique)\n",
    "\n",
    "vbox_text_test = widgets.VBox([text_titre, text_expl, text_allechant, text_aller, text_onexplique ])\n",
    "display(vbox_text_test)\n",
    "\n",
    "output2 = widgets.Output()\n",
    "\n",
    "display(PART_FC_W,output2)\n",
    "\n",
    "\n",
    "\n",
    "\n",
    "def on_value_change(change):\n",
    "    with output2:\n",
    "        \n",
    "       \n",
    "        output2.clear_output(wait=True)\n",
    "        \n",
    "        PART_FC = PART_FC_W.value/100\n",
    "        PART_TURB = 1-PART_FC;\n",
    "        mass_H2_FC = 60*Pmax*(Pdec*Tdec+Pmon*Tmon+Pcro*Tcro)/(H_E_d*FC_eff);\n",
    "\n",
    "\n",
    "        if Pdec-PART_FC>0:\n",
    "          Part_Turb_dec = Pdec-PART_FC;\n",
    "        else:\n",
    "          Part_Turb_dec = 0;\n",
    "\n",
    "        if Pmon-PART_FC>0:\n",
    "          Part_Turb_mon = Pmon-PART_FC;\n",
    "        else:\n",
    "          Part_Turb_mon = 0;\n",
    "\n",
    "        if Pcro-PART_FC>0:\n",
    "          Part_Turb_cro = Pcro-PART_FC;\n",
    "        else:\n",
    "          Part_Turb_cro = 0;\n",
    "\n",
    "        mass_H2_TURB = 60*Pmax*(Part_Turb_dec*Tdec+Part_Turb_mon*Tmon+Part_Turb_cro*Tcro)/(H_E_d*TURB_eff);\n",
    "\n",
    "        m_H2 = mass_H2_FC + mass_H2_TURB; #kg\n",
    "        Vol_H2 = m_H2/H_d; #m3\n",
    "        m_tank = m_H2/wt; #kg\n",
    "        V_tank = Vol_H2/T_encomb; #m3\n",
    "        L_tank = V_tank/(3.14*Diam_int**2/4); #m\n",
    "        nb_pax_moins = int(4*L_tank);\n",
    "        \n",
    "        m_FC = PART_FC*Pmax/FC_P_d*1000; #kg\n",
    "        m_TURB = PART_TURB*Pmax/TURB_P_d*1000; #kg\n",
    "        m_prop = m_FC + m_TURB; #kg\n",
    "        m_tank_prop = m_prop + m_tank; #kg\n",
    "        \n",
    "        opt = 4.727 ; #tonnes\n",
    "        \n",
    "        m_supp = m_tank_prop - opt*1000; #kg\n",
    "        \n",
    "        \n",
    "        \n",
    "        if 0<nb_pax_moins<=4:\n",
    "            file = open(\"Tank_1.png\", \"rb\")\n",
    "        if 4<nb_pax_moins<=8:\n",
    "            file = open(\"Tank_2.png\", \"rb\")\n",
    "        if 8<nb_pax_moins<=12:\n",
    "            file = open(\"Tank_3.png\", \"rb\")\n",
    "        if 12<nb_pax_moins<=16:\n",
    "            file = open(\"Tank_4.png\", \"rb\")\n",
    "        if 16<nb_pax_moins<=20:\n",
    "            file = open(\"Tank_5.png\", \"rb\")\n",
    "        if 20<nb_pax_moins<=24:\n",
    "            file = open(\"Tank_6.png\", \"rb\")\n",
    "        if 24<nb_pax_moins<=28:\n",
    "            file = open(\"Tank_7.png\", \"rb\")\n",
    "        if 28<nb_pax_moins<=32:\n",
    "            file = open(\"Tank_8.png\", \"rb\")\n",
    "            \n",
    "        \n",
    "        image = file.read()\n",
    "\n",
    "        image_headline = widgets.Image(\n",
    "                            value=image,\n",
    "                            format='png',\n",
    "                            width='300'\n",
    "                        )\n",
    "\n",
    "        label_headline = widgets.Label(\n",
    "                            value='ATR 72 pour un vol de 3h',\n",
    "                            style={'description_width': 'initial'}\n",
    "                        )\n",
    "\n",
    "        vbox_headline = widgets.VBox([image_headline, label_headline])\n",
    "      \n",
    "        t_0 = \"<h3>\"+\"Masse reservoir: \" + str(round(m_tank/1000,1))+\" tonnes</h3>\"\n",
    "        t_1 = \"<h3>\"+\"Masse propulsion: \" + str(round(m_prop/1000,1))+\" tonnes</h3>\"\n",
    "        t_2 = \"<h2>\"+\"Masse totale: \" + str(round(m_tank_prop/1000,1))+\" tonnes</h2>\"\n",
    "        t_3 = \"<p>\"+\"Soit \" + str(int(m_supp))+\" kg de plus que le point optimal, ce qui représente la masse de <b>\" + str(round(m_supp/95))+\" passagers</b></p>\"\n",
    "        t_4 = \"<p>\"+\"De plus, le reservoir prend la place de <b>\" + str(nb_pax_moins-11)+\"</b> passagers supplémentaires par rapport au point optimal</p>\"\n",
    "\n",
    "        \n",
    "        text_0 = widgets.HTML(value=t_0)\n",
    "        text_1 = widgets.HTML(value=t_1)\n",
    "        text_2 = widgets.HTML(value=t_2)\n",
    "        text_3 = widgets.HTML(value=t_3)\n",
    "        text_4 = widgets.HTML(value=t_4)\n",
    "       \n",
    "\n",
    "        vbox_text = widgets.VBox([text_0, text_1, text_2, text_3, text_4])\n",
    "\n",
    "        page = widgets.HBox([vbox_headline, vbox_text])\n",
    "        display(page)\n",
    "\n",
    "PART_FC_W.observe(on_value_change, names='value')\n",
    "\n",
    "t_ccl = \"<h4>L'hybridation est essentielle pour que l'avion à hydrogène soit economiquement viable</h4>\"\n",
    "t_details = \"<p>La pile à combustible possède un excellent rendement ce qui permet d'avoir des reservoirs plus petits, mais elle est très lourde. Toutefois, si elle est dimensionnée pour les phases de basses puissances (croisière) elle devient intéressante. Dans les phases de hautes puissances comme le decollage et la montée, le turbogenerateur, qui lui est leger mais a un mauvais rendement, vient completer ce manque de puissance.</p>\"\n",
    "\n",
    "text_ccl = widgets.HTML(value=t_ccl)\n",
    "text_details = widgets.HTML(value=t_details)\n",
    "\n",
    "vbox_text_test = widgets.VBox([text_ccl, text_details ])\n",
    "display(vbox_text_test)\n",
    "\n",
    "\n",
    "\n",
    "\n",
    "\n",
    "\n"
   ]
  },
  {
   "cell_type": "code",
   "execution_count": 11,
   "metadata": {},
   "outputs": [],
   "source": []
  },
  {
   "cell_type": "code",
   "execution_count": null,
   "metadata": {},
   "outputs": [],
   "source": []
  }
 ],
 "metadata": {
  "kernelspec": {
   "display_name": "Python 3 (ipykernel)",
   "language": "python",
   "name": "python3"
  },
  "language_info": {
   "codemirror_mode": {
    "name": "ipython",
    "version": 3
   },
   "file_extension": ".py",
   "mimetype": "text/x-python",
   "name": "python",
   "nbconvert_exporter": "python",
   "pygments_lexer": "ipython3",
   "version": "3.11.1"
  }
 },
 "nbformat": 4,
 "nbformat_minor": 4
}
